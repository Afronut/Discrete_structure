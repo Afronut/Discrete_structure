{
 "cells": [
  {
   "cell_type": "code",
   "execution_count": 15,
   "metadata": {},
   "outputs": [],
   "source": [
    "def BinToDec(binary_in):\n",
    "\n",
    "    # initialize\n",
    "\n",
    "    decimal_out = 0\n",
    "\n",
    "    # add up the binary expression of the decimal number\n",
    "\n",
    "    for position in range(0, len(binary_in)):\n",
    "\n",
    "        decimal_out = decimal_out + binary_in[len(binary_in)-position-1]*(2**position\n",
    "        )\n",
    "\n",
    "    return (decimal_out)"
   ]
  },
  {
   "cell_type": "code",
   "execution_count": 20,
   "metadata": {},
   "outputs": [
    {
     "data": {
      "text/plain": [
       "64"
      ]
     },
     "execution_count": 20,
     "metadata": {},
     "output_type": "execute_result"
    }
   ],
   "source": [
    "BinToDec([1,0,0,0,0,0,0 ])"
   ]
  },
  {
   "cell_type": "code",
   "execution_count": 28,
   "metadata": {},
   "outputs": [],
   "source": [
    "def ParityParty(num):\n",
    "    if not isinstance(num, int):\n",
    "        print (\"Please enter an interger!\")\n",
    "    else:\n",
    "        if num%2==0:\n",
    "            return [0,int(num/2)]\n",
    "        else:\n",
    "            return [1, int((num-1)/2)]"
   ]
  },
  {
   "cell_type": "code",
   "execution_count": 34,
   "metadata": {},
   "outputs": [
    {
     "name": "stdout",
     "output_type": "stream",
     "text": [
      "Please enter an interger!\n"
     ]
    }
   ],
   "source": [
    "ParityParty(\"meme\")"
   ]
  },
  {
   "cell_type": "code",
   "execution_count": 101,
   "metadata": {},
   "outputs": [],
   "source": [
    "def DecToBin(value):\n",
    "    if not isinstance(value, int) or value <0:\n",
    "        print (\"Please enter a positive interger!\")\n",
    "        return None\n",
    "    else:\n",
    "        binary=[]\n",
    "        if value ==0:\n",
    "            return [0]\n",
    "        while value >=1:\n",
    "            if value%2==0:\n",
    "                binary.append(0)\n",
    "                value=value/2\n",
    "            else:\n",
    "                binary.append(1)\n",
    "                value=((value-1)/2)\n",
    "                print (value)\n",
    "        return list(reversed(binary))"
   ]
  },
  {
   "cell_type": "code",
   "execution_count": 105,
   "metadata": {},
   "outputs": [
    {
     "name": "stdout",
     "output_type": "stream",
     "text": [
      "1.0\n",
      "0.0\n"
     ]
    }
   ],
   "source": [
    "m=DecToBin(3)"
   ]
  },
  {
   "cell_type": "code",
   "execution_count": 106,
   "metadata": {},
   "outputs": [
    {
     "data": {
      "text/plain": [
       "[1, 1]"
      ]
     },
     "execution_count": 106,
     "metadata": {},
     "output_type": "execute_result"
    }
   ],
   "source": [
    "m"
   ]
  },
  {
   "cell_type": "code",
   "execution_count": 107,
   "metadata": {},
   "outputs": [
    {
     "data": {
      "text/plain": [
       "3"
      ]
     },
     "execution_count": 107,
     "metadata": {},
     "output_type": "execute_result"
    }
   ],
   "source": [
    "BinToDec(m)"
   ]
  },
  {
   "cell_type": "code",
   "execution_count": null,
   "metadata": {},
   "outputs": [],
   "source": []
  }
 ],
 "metadata": {
  "kernelspec": {
   "display_name": "Python 3",
   "language": "python",
   "name": "python3"
  },
  "language_info": {
   "codemirror_mode": {
    "name": "ipython",
    "version": 3
   },
   "file_extension": ".py",
   "mimetype": "text/x-python",
   "name": "python",
   "nbconvert_exporter": "python",
   "pygments_lexer": "ipython3",
   "version": "3.7.1"
  }
 },
 "nbformat": 4,
 "nbformat_minor": 2
}
